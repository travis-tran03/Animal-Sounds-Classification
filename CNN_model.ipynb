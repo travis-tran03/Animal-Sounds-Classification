{
 "cells": [
  {
   "cell_type": "code",
   "execution_count": 1,
   "metadata": {},
   "outputs": [],
   "source": [
    "import pandas as pd\n",
    "import numpy as np\n",
    "import torch\n",
    "import torch.nn as nn\n",
    "import torch.optim as optim\n",
    "from sklearn.model_selection import train_test_split\n",
    "from torch.utils.data import Dataset, DataLoader\n",
    "from sklearn.metrics import accuracy_score"
   ]
  },
  {
   "cell_type": "markdown",
   "metadata": {},
   "source": [
    "### Get Data"
   ]
  },
  {
   "cell_type": "code",
   "execution_count": 5,
   "metadata": {},
   "outputs": [],
   "source": [
    "df1 = pd.read_csv('audio_data.csv')"
   ]
  },
  {
   "cell_type": "code",
   "execution_count": 8,
   "metadata": {},
   "outputs": [],
   "source": [
    "# Extract MFCC feature columns\n",
    "X = df1.iloc[:,4:].values\n",
    "\n",
    "# Convert labels to numeric numbers (0 for cat, 1 for dog)\n",
    "y = df1[\"label\"].map({\"cat\": 0, \"dog_barking\": 1}).values\n",
    "\n",
    "# Train-test split\n",
    "X_train1, X_test1, y_train1, y_test1 = train_test_split(X, y, test_size=0.2, random_state=42)"
   ]
  },
  {
   "cell_type": "code",
   "execution_count": 9,
   "metadata": {},
   "outputs": [],
   "source": [
    "df2 = pd.read_csv('audio_data2.csv')\n",
    "# Extract MFCC feature columns\n",
    "X = df2.iloc[:,4:].values\n",
    "\n",
    "# Convert labels to numeric numbers (0 for cat, 1 for dog)\n",
    "y = df2[\"label\"].map({\"frog\": 0,\"donkey\": 1,\"cat\": 2,\"monkey\": 3,\"baby sheep\": 4,\"bird\": 5,\"lion\": 6,\"cow\": 7,\"dog\": 8,\"chicken\": 9}).values\n",
    "\n",
    "# Train-test split\n",
    "X_train2, X_test2, y_train2, y_test2 = train_test_split(X, y, test_size=0.2, random_state=42)"
   ]
  },
  {
   "cell_type": "code",
   "execution_count": 10,
   "metadata": {},
   "outputs": [],
   "source": [
    "def reshape_mfcc(mfcc_vector, height=40, width=33):\n",
    "    padded = np.pad(mfcc_vector, (0, height * width - len(mfcc_vector)), mode='constant')\n",
    "    return padded.reshape(height, width)\n",
    "\n",
    "# Reshape all MFCC data\n",
    "X_train = np.array([reshape_mfcc(x) for x in X_train2])\n",
    "X_test = np.array([reshape_mfcc(x) for x in X_test2])\n",
    "\n",
    "# Convert to PyTorch tensors\n",
    "X_train_tensor = torch.tensor(X_train, dtype=torch.float32).unsqueeze(1)\n",
    "X_test_tensor = torch.tensor(X_test, dtype=torch.float32).unsqueeze(1)\n",
    "y_train_tensor = torch.tensor(y_train2, dtype=torch.long)\n",
    "y_test_tensor = torch.tensor(y_test2, dtype=torch.long)\n"
   ]
  },
  {
   "cell_type": "code",
   "execution_count": 11,
   "metadata": {},
   "outputs": [],
   "source": [
    "class MFCCDataset(Dataset):\n",
    "    def __init__(self, X, y):\n",
    "        self.X = X\n",
    "        self.y = y\n",
    "\n",
    "    def __len__(self):\n",
    "        return len(self.X)\n",
    "\n",
    "    def __getitem__(self, idx):\n",
    "        return self.X[idx], self.y[idx]\n",
    "\n",
    "# Create dataset\n",
    "train_dataset = MFCCDataset(X_train_tensor, y_train_tensor)\n",
    "test_dataset = MFCCDataset(X_test_tensor, y_test_tensor)\n",
    "\n",
    "# Create dataloaders\n",
    "train_loader = DataLoader(train_dataset, batch_size=32, shuffle=True)\n",
    "test_loader = DataLoader(test_dataset, batch_size=32, shuffle=False)\n"
   ]
  },
  {
   "cell_type": "markdown",
   "metadata": {},
   "source": [
    "### Create Model"
   ]
  },
  {
   "cell_type": "code",
   "execution_count": null,
   "metadata": {},
   "outputs": [],
   "source": [
    "# Model fo audio_data\n",
    "class CNN_Audio(nn.Module):\n",
    "    def __init__(self):\n",
    "        super(CNN_Audio, self).__init__()\n",
    "        self.conv1 = nn.Conv2d(1, 16, kernel_size=3, stride=1, padding=1)\n",
    "        self.conv2 = nn.Conv2d(16, 32, kernel_size=3, stride=1, padding=1)\n",
    "        self.pool = nn.MaxPool2d(2, 2)\n",
    "        self.fc1 = nn.Linear(32 * 10 * 8, 128)\n",
    "        self.fc2 = nn.Linear(128, 2)\n",
    "    \n",
    "    def forward(self, x):\n",
    "        x = self.pool(torch.relu(self.conv1(x)))\n",
    "        x = self.pool(torch.relu(self.conv2(x)))\n",
    "        x = x.view(x.size(0), -1)\n",
    "        x = torch.relu(self.fc1(x))\n",
    "        x = self.fc2(x)\n",
    "        return x\n",
    "\n",
    "model = CNN_Audio()\n"
   ]
  },
  {
   "cell_type": "code",
   "execution_count": 14,
   "metadata": {},
   "outputs": [],
   "source": [
    "# Model fo audio_data2\n",
    "class CNN_Audio(nn.Module):\n",
    "    def __init__(self):\n",
    "        super(CNN_Audio, self).__init__()\n",
    "        self.conv1 = nn.Conv2d(1, 16, kernel_size=3, stride=1, padding=1)\n",
    "        self.conv2 = nn.Conv2d(16, 32, kernel_size=3, stride=1, padding=1)\n",
    "        self.pool = nn.MaxPool2d(2, 2)\n",
    "        self.fc1 = nn.Linear(32 * 10 * 8, 128)\n",
    "        self.fc2 = nn.Linear(128, 10)\n",
    "    \n",
    "    def forward(self, x):\n",
    "        x = self.pool(torch.relu(self.conv1(x)))\n",
    "        x = self.pool(torch.relu(self.conv2(x)))\n",
    "        x = x.view(x.size(0), -1)\n",
    "        x = torch.relu(self.fc1(x))\n",
    "        x = self.fc2(x)\n",
    "        return x\n",
    "\n",
    "model = CNN_Audio()\n"
   ]
  },
  {
   "cell_type": "markdown",
   "metadata": {},
   "source": [
    "### Train Model"
   ]
  },
  {
   "cell_type": "code",
   "execution_count": 18,
   "metadata": {},
   "outputs": [
    {
     "name": "stdout",
     "output_type": "stream",
     "text": [
      "Epoch 1/100, Loss: 0.038259437173390046\n",
      "Epoch 2/100, Loss: 0.017985119161984094\n",
      "Epoch 3/100, Loss: 0.03317824426966791\n",
      "Epoch 4/100, Loss: 0.009852709735591466\n",
      "Epoch 5/100, Loss: 0.005274671623108309\n",
      "Epoch 6/100, Loss: 0.0024986936321231322\n",
      "Epoch 7/100, Loss: 0.0011335747258272022\n",
      "Epoch 8/100, Loss: 0.0006688549284053107\n",
      "Epoch 9/100, Loss: 0.0005238059563383174\n",
      "Epoch 10/100, Loss: 0.00044023484336391377\n",
      "Epoch 11/100, Loss: 0.0003751760300824222\n",
      "Epoch 12/100, Loss: 0.00033753744397612394\n",
      "Epoch 13/100, Loss: 0.0003042651696887333\n",
      "Epoch 14/100, Loss: 0.00027788082325759414\n",
      "Epoch 15/100, Loss: 0.00025344269334499794\n",
      "Epoch 16/100, Loss: 0.00023568619396358443\n",
      "Epoch 17/100, Loss: 0.00021633745088295726\n",
      "Epoch 18/100, Loss: 0.00019925290941430902\n",
      "Epoch 19/100, Loss: 0.00018322311370866373\n",
      "Epoch 20/100, Loss: 0.00017876076568567302\n",
      "Epoch 21/100, Loss: 0.00016772969327296148\n",
      "Epoch 22/100, Loss: 0.00015411332396279948\n",
      "Epoch 23/100, Loss: 0.00014583982248530866\n",
      "Epoch 24/100, Loss: 0.00013361536422542905\n",
      "Epoch 25/100, Loss: 0.0001272355980640546\n",
      "Epoch 26/100, Loss: 0.00012483969378361228\n",
      "Epoch 27/100, Loss: 0.00011637468840210483\n",
      "Epoch 28/100, Loss: 0.0001069261802163405\n",
      "Epoch 29/100, Loss: 0.00010325355078048933\n",
      "Epoch 30/100, Loss: 9.76196262434734e-05\n",
      "Epoch 31/100, Loss: 9.256544965934994e-05\n",
      "Epoch 32/100, Loss: 8.858358964621752e-05\n",
      "Epoch 33/100, Loss: 8.625035759625741e-05\n",
      "Epoch 34/100, Loss: 8.247354036519447e-05\n",
      "Epoch 35/100, Loss: 7.93814317428489e-05\n",
      "Epoch 36/100, Loss: 7.486938864950879e-05\n",
      "Epoch 37/100, Loss: 7.28518814587285e-05\n",
      "Epoch 38/100, Loss: 7.00478480072119e-05\n",
      "Epoch 39/100, Loss: 6.67992375243697e-05\n",
      "Epoch 40/100, Loss: 6.393537429315844e-05\n",
      "Epoch 41/100, Loss: 6.235322304676699e-05\n",
      "Epoch 42/100, Loss: 6.109887432942812e-05\n",
      "Epoch 43/100, Loss: 5.8817076793415115e-05\n",
      "Epoch 44/100, Loss: 5.5571620228315274e-05\n",
      "Epoch 45/100, Loss: 5.610678992805053e-05\n",
      "Epoch 46/100, Loss: 5.4836411436554044e-05\n",
      "Epoch 47/100, Loss: 5.016864892800536e-05\n",
      "Epoch 48/100, Loss: 4.855537718657825e-05\n",
      "Epoch 49/100, Loss: 4.640276644680013e-05\n",
      "Epoch 50/100, Loss: 4.739065794777931e-05\n",
      "Epoch 51/100, Loss: 4.347474808897599e-05\n",
      "Epoch 52/100, Loss: 4.5363144531270686e-05\n",
      "Epoch 53/100, Loss: 4.184272067784779e-05\n",
      "Epoch 54/100, Loss: 4.008615269412985e-05\n",
      "Epoch 55/100, Loss: 3.92881933154198e-05\n",
      "Epoch 56/100, Loss: 3.75684183102119e-05\n",
      "Epoch 57/100, Loss: 3.678244356181564e-05\n",
      "Epoch 58/100, Loss: 3.538250208433825e-05\n",
      "Epoch 59/100, Loss: 3.410175979577336e-05\n",
      "Epoch 60/100, Loss: 3.3080745966939365e-05\n",
      "Epoch 61/100, Loss: 3.293042839057027e-05\n",
      "Epoch 62/100, Loss: 3.252946187505866e-05\n",
      "Epoch 63/100, Loss: 3.097947364949505e-05\n",
      "Epoch 64/100, Loss: 3.213250703573487e-05\n",
      "Epoch 65/100, Loss: 3.0017099911324644e-05\n",
      "Epoch 66/100, Loss: 2.8621950850020556e-05\n",
      "Epoch 67/100, Loss: 2.7378909967760243e-05\n",
      "Epoch 68/100, Loss: 2.7863722572454626e-05\n",
      "Epoch 69/100, Loss: 2.6182663917167632e-05\n",
      "Epoch 70/100, Loss: 2.5796010224719514e-05\n",
      "Epoch 71/100, Loss: 2.4803702357390786e-05\n",
      "Epoch 72/100, Loss: 2.5035289931670726e-05\n",
      "Epoch 73/100, Loss: 2.478168506478631e-05\n",
      "Epoch 74/100, Loss: 2.276576061122936e-05\n",
      "Epoch 75/100, Loss: 2.2373007718320318e-05\n",
      "Epoch 76/100, Loss: 2.2023854888595033e-05\n",
      "Epoch 77/100, Loss: 2.1520016284389734e-05\n",
      "Epoch 78/100, Loss: 2.174771952923038e-05\n",
      "Epoch 79/100, Loss: 2.1057682698273522e-05\n",
      "Epoch 80/100, Loss: 2.0127333055615265e-05\n",
      "Epoch 81/100, Loss: 1.931094258093953e-05\n",
      "Epoch 82/100, Loss: 1.896373741826752e-05\n",
      "Epoch 83/100, Loss: 1.8611173905250886e-05\n",
      "Epoch 84/100, Loss: 1.8140563891113114e-05\n",
      "Epoch 85/100, Loss: 1.8033655622345508e-05\n",
      "Epoch 86/100, Loss: 1.7721859386745982e-05\n",
      "Epoch 87/100, Loss: 1.7358854025727713e-05\n",
      "Epoch 88/100, Loss: 1.661131610411268e-05\n",
      "Epoch 89/100, Loss: 1.7146338205538297e-05\n",
      "Epoch 90/100, Loss: 1.602928369510874e-05\n",
      "Epoch 91/100, Loss: 1.5957304203066786e-05\n",
      "Epoch 92/100, Loss: 1.587035911562942e-05\n",
      "Epoch 93/100, Loss: 1.546849333723143e-05\n",
      "Epoch 94/100, Loss: 1.479262944205682e-05\n",
      "Epoch 95/100, Loss: 1.4499329573971829e-05\n",
      "Epoch 96/100, Loss: 1.4076624665904092e-05\n",
      "Epoch 97/100, Loss: 1.4102505317098872e-05\n",
      "Epoch 98/100, Loss: 1.34517369430726e-05\n",
      "Epoch 99/100, Loss: 1.3677038186170439e-05\n",
      "Epoch 100/100, Loss: 1.3155959672635967e-05\n",
      "Training complete!\n"
     ]
    }
   ],
   "source": [
    "criterion = nn.CrossEntropyLoss()\n",
    "optimizer = optim.Adam(model.parameters(), lr=0.001)\n",
    "\n",
    "# Training loop\n",
    "num_epochs = 100\n",
    "\n",
    "for epoch in range(num_epochs):\n",
    "    model.train()\n",
    "    running_loss = 0.0\n",
    "\n",
    "    for inputs, labels in train_loader:\n",
    "        optimizer.zero_grad()\n",
    "        outputs = model(inputs)\n",
    "        loss = criterion(outputs, labels)\n",
    "        loss.backward()\n",
    "        optimizer.step()\n",
    "        running_loss += loss.item()\n",
    "\n",
    "    print(f\"Epoch {epoch+1}/{num_epochs}, Loss: {running_loss / len(train_loader)}\")\n",
    "\n",
    "print(\"Training complete!\")\n"
   ]
  },
  {
   "cell_type": "code",
   "execution_count": 19,
   "metadata": {},
   "outputs": [
    {
     "name": "stdout",
     "output_type": "stream",
     "text": [
      "Test Accuracy: 0.8669950738916257\n"
     ]
    }
   ],
   "source": [
    "model.eval()\n",
    "all_preds, all_labels = [], []\n",
    "\n",
    "with torch.no_grad():\n",
    "    for inputs, labels in test_loader:\n",
    "        outputs = model(inputs)\n",
    "        _, preds = torch.max(outputs, 1)\n",
    "        all_preds.extend(preds.numpy())\n",
    "        all_labels.extend(labels.numpy())\n",
    "\n",
    "accuracy = accuracy_score(all_labels, all_preds)\n",
    "print(f\"Test Accuracy: {accuracy}\")\n"
   ]
  },
  {
   "cell_type": "code",
   "execution_count": null,
   "metadata": {},
   "outputs": [],
   "source": []
  }
 ],
 "metadata": {
  "kernelspec": {
   "display_name": "cs178",
   "language": "python",
   "name": "python3"
  },
  "language_info": {
   "codemirror_mode": {
    "name": "ipython",
    "version": 3
   },
   "file_extension": ".py",
   "mimetype": "text/x-python",
   "name": "python",
   "nbconvert_exporter": "python",
   "pygments_lexer": "ipython3",
   "version": "3.10.14"
  }
 },
 "nbformat": 4,
 "nbformat_minor": 2
}
