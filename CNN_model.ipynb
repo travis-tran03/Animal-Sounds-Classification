{
 "cells": [
  {
   "cell_type": "code",
   "execution_count": 225,
   "metadata": {},
   "outputs": [],
   "source": [
    "import pandas as pd\n",
    "import numpy as np\n",
    "import torch\n",
    "import torch.nn as nn\n",
    "import torch.optim as optim\n",
    "from sklearn.model_selection import train_test_split\n",
    "from torch.utils.data import Dataset, DataLoader\n",
    "from sklearn.metrics import accuracy_score"
   ]
  },
  {
   "cell_type": "markdown",
   "metadata": {},
   "source": [
    "### Get Data"
   ]
  },
  {
   "cell_type": "code",
   "execution_count": 226,
   "metadata": {},
   "outputs": [],
   "source": [
    "df = pd.read_csv('audio_data.csv')"
   ]
  },
  {
   "cell_type": "code",
   "execution_count": 227,
   "metadata": {},
   "outputs": [],
   "source": [
    "# Extract MFCC feature columns\n",
    "X = df.iloc[:,4:].values\n",
    "\n",
    "# Convert labels to numeric numbers (0 for cat, 1 for dog)\n",
    "y = df[\"label\"].map({\"cat\": 0, \"dog_barking\": 1}).values\n",
    "\n",
    "# Train-test split\n",
    "X_train, X_test, y_train, y_test = train_test_split(X, y, test_size=0.2, random_state=42)"
   ]
  },
  {
   "cell_type": "code",
   "execution_count": 228,
   "metadata": {},
   "outputs": [],
   "source": [
    "def reshape_mfcc(mfcc_vector, height=40, width=33):\n",
    "    padded = np.pad(mfcc_vector, (0, height * width - len(mfcc_vector)), mode='constant')\n",
    "    return padded.reshape(height, width)\n",
    "\n",
    "# Reshape all MFCC data\n",
    "X_train = np.array([reshape_mfcc(x) for x in X_train])\n",
    "X_test = np.array([reshape_mfcc(x) for x in X_test])\n",
    "\n",
    "# Convert to PyTorch tensors\n",
    "X_train_tensor = torch.tensor(X_train, dtype=torch.float32).unsqueeze(1)\n",
    "X_test_tensor = torch.tensor(X_test, dtype=torch.float32).unsqueeze(1)\n",
    "y_train_tensor = torch.tensor(y_train, dtype=torch.long)\n",
    "y_test_tensor = torch.tensor(y_test, dtype=torch.long)\n"
   ]
  },
  {
   "cell_type": "code",
   "execution_count": 229,
   "metadata": {},
   "outputs": [],
   "source": [
    "class MFCCDataset(Dataset):\n",
    "    def __init__(self, X, y):\n",
    "        self.X = X\n",
    "        self.y = y\n",
    "\n",
    "    def __len__(self):\n",
    "        return len(self.X)\n",
    "\n",
    "    def __getitem__(self, idx):\n",
    "        return self.X[idx], self.y[idx]\n",
    "\n",
    "# Create dataset\n",
    "train_dataset = MFCCDataset(X_train_tensor, y_train_tensor)\n",
    "test_dataset = MFCCDataset(X_test_tensor, y_test_tensor)\n",
    "\n",
    "# Create dataloaders\n",
    "train_loader = DataLoader(train_dataset, batch_size=32, shuffle=True)\n",
    "test_loader = DataLoader(test_dataset, batch_size=32, shuffle=False)\n"
   ]
  },
  {
   "cell_type": "markdown",
   "metadata": {},
   "source": [
    "### Create Model"
   ]
  },
  {
   "cell_type": "code",
   "execution_count": 230,
   "metadata": {},
   "outputs": [],
   "source": [
    "class CNN_Audio(nn.Module):\n",
    "    def __init__(self):\n",
    "        super(CNN_Audio, self).__init__()\n",
    "        self.conv1 = nn.Conv2d(1, 16, kernel_size=3, stride=1, padding=1)\n",
    "        self.conv2 = nn.Conv2d(16, 32, kernel_size=3, stride=1, padding=1)\n",
    "        self.pool = nn.MaxPool2d(2, 2)\n",
    "        self.fc1 = nn.Linear(32 * 10 * 8, 128)\n",
    "        self.fc2 = nn.Linear(128, 2)\n",
    "    \n",
    "    def forward(self, x):\n",
    "        x = self.pool(torch.relu(self.conv1(x)))\n",
    "        x = self.pool(torch.relu(self.conv2(x)))\n",
    "        x = x.view(x.size(0), -1)\n",
    "        x = torch.relu(self.fc1(x))\n",
    "        x = self.fc2(x)\n",
    "        return x\n",
    "\n",
    "model = CNN_Audio()\n"
   ]
  },
  {
   "cell_type": "markdown",
   "metadata": {},
   "source": [
    "### Train Model"
   ]
  },
  {
   "cell_type": "code",
   "execution_count": 231,
   "metadata": {},
   "outputs": [
    {
     "name": "stdout",
     "output_type": "stream",
     "text": [
      "Epoch 1/100, Loss: 0.5141658229487283\n",
      "Epoch 2/100, Loss: 0.34555984820638386\n",
      "Epoch 3/100, Loss: 0.251598732812064\n",
      "Epoch 4/100, Loss: 0.2062331001673426\n",
      "Epoch 5/100, Loss: 0.21343709102698735\n",
      "Epoch 6/100, Loss: 0.1787304271544729\n",
      "Epoch 7/100, Loss: 0.13520250150135585\n",
      "Epoch 8/100, Loss: 0.10796044447592326\n",
      "Epoch 9/100, Loss: 0.07323920247810227\n",
      "Epoch 10/100, Loss: 0.05864212316061769\n",
      "Epoch 11/100, Loss: 0.04954956618270704\n",
      "Epoch 12/100, Loss: 0.03787895504917417\n",
      "Epoch 13/100, Loss: 0.025203340952949866\n",
      "Epoch 14/100, Loss: 0.018207392123128687\n",
      "Epoch 15/100, Loss: 0.012534309444682938\n",
      "Epoch 16/100, Loss: 0.009812285059264727\n",
      "Epoch 17/100, Loss: 0.007876844644280416\n",
      "Epoch 18/100, Loss: 0.005780015140771866\n",
      "Epoch 19/100, Loss: 0.0048735115643856785\n",
      "Epoch 20/100, Loss: 0.0039923881413415074\n",
      "Epoch 21/100, Loss: 0.0035388953651168515\n",
      "Epoch 22/100, Loss: 0.0028887545257540686\n",
      "Epoch 23/100, Loss: 0.002541477617342025\n",
      "Epoch 24/100, Loss: 0.0022489774440016064\n",
      "Epoch 25/100, Loss: 0.0019446324856419648\n",
      "Epoch 26/100, Loss: 0.0017926975851878524\n",
      "Epoch 27/100, Loss: 0.0015514895203523338\n",
      "Epoch 28/100, Loss: 0.0014593684380607946\n",
      "Epoch 29/100, Loss: 0.001371970574837178\n",
      "Epoch 30/100, Loss: 0.0012106246015589153\n",
      "Epoch 31/100, Loss: 0.001103993401297235\n",
      "Epoch 32/100, Loss: 0.0010201296120482897\n",
      "Epoch 33/100, Loss: 0.0009514205157756805\n",
      "Epoch 34/100, Loss: 0.0008891129067965917\n",
      "Epoch 35/100, Loss: 0.0008232122179054256\n",
      "Epoch 36/100, Loss: 0.0007891932410919773\n",
      "Epoch 37/100, Loss: 0.000730409095662513\n",
      "Epoch 38/100, Loss: 0.0006778302486054599\n",
      "Epoch 39/100, Loss: 0.0006430408642959914\n",
      "Epoch 40/100, Loss: 0.00060669585114478\n",
      "Epoch 41/100, Loss: 0.000596210196298281\n",
      "Epoch 42/100, Loss: 0.0005375884065870196\n",
      "Epoch 43/100, Loss: 0.0005180995503906161\n",
      "Epoch 44/100, Loss: 0.00048608692096812386\n",
      "Epoch 45/100, Loss: 0.0004627865086409396\n",
      "Epoch 46/100, Loss: 0.00044150920127451954\n",
      "Epoch 47/100, Loss: 0.0004269797500455752\n",
      "Epoch 48/100, Loss: 0.00039689413097221404\n",
      "Epoch 49/100, Loss: 0.0003817929578612426\n",
      "Epoch 50/100, Loss: 0.00036210801668598184\n",
      "Epoch 51/100, Loss: 0.0003488433555633362\n",
      "Epoch 52/100, Loss: 0.00033724897990136275\n",
      "Epoch 53/100, Loss: 0.0003181238176434168\n",
      "Epoch 54/100, Loss: 0.00030798863112327775\n",
      "Epoch 55/100, Loss: 0.0002920324082619378\n",
      "Epoch 56/100, Loss: 0.0002958104326223422\n",
      "Epoch 57/100, Loss: 0.00028299190203792283\n",
      "Epoch 58/100, Loss: 0.0002642565128293687\n",
      "Epoch 59/100, Loss: 0.00025204490728875887\n",
      "Epoch 60/100, Loss: 0.00024116056218710064\n",
      "Epoch 61/100, Loss: 0.0002358229602188138\n",
      "Epoch 62/100, Loss: 0.0002247848897241056\n",
      "Epoch 63/100, Loss: 0.00022012272529536858\n",
      "Epoch 64/100, Loss: 0.00021020912390667945\n",
      "Epoch 65/100, Loss: 0.00020736825328120695\n",
      "Epoch 66/100, Loss: 0.00019885563960997388\n",
      "Epoch 67/100, Loss: 0.00019318655644643253\n",
      "Epoch 68/100, Loss: 0.0001858400896058551\n",
      "Epoch 69/100, Loss: 0.0001811934177697237\n",
      "Epoch 70/100, Loss: 0.00017329684955516962\n",
      "Epoch 71/100, Loss: 0.0001752273819874972\n",
      "Epoch 72/100, Loss: 0.0001668970934198504\n",
      "Epoch 73/100, Loss: 0.0001599285938677245\n",
      "Epoch 74/100, Loss: 0.00015366238533585732\n",
      "Epoch 75/100, Loss: 0.0001509891070392249\n",
      "Epoch 76/100, Loss: 0.00014636527131577686\n",
      "Epoch 77/100, Loss: 0.0001436924628381218\n",
      "Epoch 78/100, Loss: 0.00013814748906172878\n",
      "Epoch 79/100, Loss: 0.00013538739689725583\n",
      "Epoch 80/100, Loss: 0.00013148477695982104\n",
      "Epoch 81/100, Loss: 0.00012929684973122285\n",
      "Epoch 82/100, Loss: 0.00012539116765505502\n",
      "Epoch 83/100, Loss: 0.0001231129634626476\n",
      "Epoch 84/100, Loss: 0.00011839370667335711\n",
      "Epoch 85/100, Loss: 0.000116332017309365\n",
      "Epoch 86/100, Loss: 0.00011386802361812443\n",
      "Epoch 87/100, Loss: 0.00011139719728297288\n",
      "Epoch 88/100, Loss: 0.00010631689552350767\n",
      "Epoch 89/100, Loss: 0.00010362382116519646\n",
      "Epoch 90/100, Loss: 0.00010186742344688225\n",
      "Epoch 91/100, Loss: 9.962576638957086e-05\n",
      "Epoch 92/100, Loss: 9.73638460501596e-05\n",
      "Epoch 93/100, Loss: 9.569471356891362e-05\n",
      "Epoch 94/100, Loss: 9.367372539210399e-05\n",
      "Epoch 95/100, Loss: 9.08521085096124e-05\n",
      "Epoch 96/100, Loss: 8.96855651392668e-05\n",
      "Epoch 97/100, Loss: 8.727769454708323e-05\n",
      "Epoch 98/100, Loss: 8.51797129663672e-05\n",
      "Epoch 99/100, Loss: 8.338990041270986e-05\n",
      "Epoch 100/100, Loss: 8.17926115165132e-05\n",
      "Training complete!\n"
     ]
    }
   ],
   "source": [
    "criterion = nn.CrossEntropyLoss()\n",
    "optimizer = optim.Adam(model.parameters(), lr=0.001)\n",
    "\n",
    "# Training loop\n",
    "num_epochs = 100\n",
    "\n",
    "for epoch in range(num_epochs):\n",
    "    model.train()\n",
    "    running_loss = 0.0\n",
    "\n",
    "    for inputs, labels in train_loader:\n",
    "        optimizer.zero_grad()\n",
    "        outputs = model(inputs)\n",
    "        loss = criterion(outputs, labels)\n",
    "        loss.backward()\n",
    "        optimizer.step()\n",
    "        running_loss += loss.item()\n",
    "\n",
    "    print(f\"Epoch {epoch+1}/{num_epochs}, Loss: {running_loss / len(train_loader)}\")\n",
    "\n",
    "print(\"Training complete!\")\n"
   ]
  },
  {
   "cell_type": "code",
   "execution_count": 233,
   "metadata": {},
   "outputs": [
    {
     "name": "stdout",
     "output_type": "stream",
     "text": [
      "Test Accuracy: 0.9285714285714286\n"
     ]
    }
   ],
   "source": [
    "model.eval()\n",
    "all_preds, all_labels = [], []\n",
    "\n",
    "with torch.no_grad():\n",
    "    for inputs, labels in test_loader:\n",
    "        outputs = model(inputs)\n",
    "        _, preds = torch.max(outputs, 1)\n",
    "        all_preds.extend(preds.numpy())\n",
    "        all_labels.extend(labels.numpy())\n",
    "\n",
    "accuracy = accuracy_score(all_labels, all_preds)\n",
    "print(f\"Test Accuracy: {accuracy}\")\n"
   ]
  }
 ],
 "metadata": {
  "kernelspec": {
   "display_name": "cs178",
   "language": "python",
   "name": "python3"
  },
  "language_info": {
   "codemirror_mode": {
    "name": "ipython",
    "version": 3
   },
   "file_extension": ".py",
   "mimetype": "text/x-python",
   "name": "python",
   "nbconvert_exporter": "python",
   "pygments_lexer": "ipython3",
   "version": "3.10.14"
  }
 },
 "nbformat": 4,
 "nbformat_minor": 2
}
